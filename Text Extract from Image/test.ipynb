{
 "cells": [
  {
   "cell_type": "code",
   "execution_count": 1,
   "metadata": {},
   "outputs": [],
   "source": [
    "import easyocr"
   ]
  },
  {
   "cell_type": "code",
   "execution_count": 2,
   "metadata": {},
   "outputs": [
    {
     "name": "stderr",
     "output_type": "stream",
     "text": [
      "Neither CUDA nor MPS are available - defaulting to CPU. Note: This module is much faster with a GPU.\n",
      "g:\\OneDrive - northsouth.edu\\CODES\\LEARNING LOG\\LEARNING- PYTHON\\Text Extract from Image\\.venv\\Lib\\site-packages\\easyocr\\detection.py:78: FutureWarning: You are using `torch.load` with `weights_only=False` (the current default value), which uses the default pickle module implicitly. It is possible to construct malicious pickle data which will execute arbitrary code during unpickling (See https://github.com/pytorch/pytorch/blob/main/SECURITY.md#untrusted-models for more details). In a future release, the default value for `weights_only` will be flipped to `True`. This limits the functions that could be executed during unpickling. Arbitrary objects will no longer be allowed to be loaded via this mode unless they are explicitly allowlisted by the user via `torch.serialization.add_safe_globals`. We recommend you start setting `weights_only=True` for any use case where you don't have full control of the loaded file. Please open an issue on GitHub for any issues related to this experimental feature.\n",
      "  net.load_state_dict(copyStateDict(torch.load(trained_model, map_location=device)))\n",
      "g:\\OneDrive - northsouth.edu\\CODES\\LEARNING LOG\\LEARNING- PYTHON\\Text Extract from Image\\.venv\\Lib\\site-packages\\easyocr\\recognition.py:169: FutureWarning: You are using `torch.load` with `weights_only=False` (the current default value), which uses the default pickle module implicitly. It is possible to construct malicious pickle data which will execute arbitrary code during unpickling (See https://github.com/pytorch/pytorch/blob/main/SECURITY.md#untrusted-models for more details). In a future release, the default value for `weights_only` will be flipped to `True`. This limits the functions that could be executed during unpickling. Arbitrary objects will no longer be allowed to be loaded via this mode unless they are explicitly allowlisted by the user via `torch.serialization.add_safe_globals`. We recommend you start setting `weights_only=True` for any use case where you don't have full control of the loaded file. Please open an issue on GitHub for any issues related to this experimental feature.\n",
      "  state_dict = torch.load(model_path, map_location=device)\n"
     ]
    }
   ],
   "source": [
    "reader = easyocr.Reader(['en','bn'])"
   ]
  },
  {
   "cell_type": "code",
   "execution_count": 16,
   "metadata": {},
   "outputs": [],
   "source": [
    "result = reader.readtext('C:/Users/farha/Downloads/mixed language.PNG')"
   ]
  },
  {
   "cell_type": "code",
   "execution_count": 17,
   "metadata": {},
   "outputs": [
    {
     "name": "stdout",
     "output_type": "stream",
     "text": [
      "Text: Untitled, Probability: 0.9480961481499682\n",
      "Text: Notepad, Probability: 0.9537176345059503\n",
      "Text: File, Probability: 0.668164836072317\n",
      "Text: Edit, Probability: 0.8993457422741709\n",
      "Text: Fgrmat, Probability: 0.965148977520644\n",
      "Text: View, Probability: 0.652423620223999\n",
      "Text: Help, Probability: 0.9998018741607666\n",
      "Text: আমরা বাঙালি, Probability: 0.8967649366450208\n",
      "Text: আমর্না জীবন দিতে জানি], Probability: 0.26505704717167844\n",
      "Text: আমরা ভয় পাই না], Probability: 0.6259169340034073\n"
     ]
    }
   ],
   "source": [
    "for (bbox, text, prob) in result:\n",
    "    print(f'Text: {text}, Probability: {prob}')"
   ]
  },
  {
   "cell_type": "code",
   "execution_count": 13,
   "metadata": {},
   "outputs": [
    {
     "name": "stdout",
     "output_type": "stream",
     "text": [
      "রাবর\n",
      "গান শ্বুনে\n",
      "বলতেন, রবি\n",
      "আমাদের\n",
      "বাহলাদেশের\n",
      "বুলবুল ! একবা\n",
      "কোনো উৎসব\n",
      "উসলক্ষে\n",
      "রবযন্দ্রনাথ\n",
      "অনেকগুলি গান\n",
      "রচনা\n",
      "I৮ েন\n",
      "মহযিদেব\n",
      "তিখ্রন\n",
      "ঢঢৃেন\n",
      "চুচুড়োয়া\n",
      "কাবর\n",
      "ডক\n",
      "নসডম\n",
      "যেখানে\n",
      "মহার্য\n",
      "করে\n"
     ]
    }
   ],
   "source": [
    "for detection in result:\n",
    "    print(detection[1])"
   ]
  }
 ],
 "metadata": {
  "kernelspec": {
   "display_name": ".venv",
   "language": "python",
   "name": "python3"
  },
  "language_info": {
   "codemirror_mode": {
    "name": "ipython",
    "version": 3
   },
   "file_extension": ".py",
   "mimetype": "text/x-python",
   "name": "python",
   "nbconvert_exporter": "python",
   "pygments_lexer": "ipython3",
   "version": "3.11.1"
  }
 },
 "nbformat": 4,
 "nbformat_minor": 2
}
